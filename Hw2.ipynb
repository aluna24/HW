{
 "cells": [
  {
   "cell_type": "code",
   "execution_count": 39,
   "id": "5c6fd20b",
   "metadata": {},
   "outputs": [
    {
     "name": "stdout",
     "output_type": "stream",
     "text": [
      "0\n",
      "1\n",
      "2\n",
      "3\n",
      "4\n"
     ]
    }
   ],
   "source": [
    "i = 0\n",
    "while i < 5:\n",
    "    print(i)\n",
    "    if i ==5:\n",
    "        break\n",
    "    i += 1"
   ]
  },
  {
   "cell_type": "code",
   "execution_count": 50,
   "id": "af75874b",
   "metadata": {},
   "outputs": [
    {
     "name": "stdout",
     "output_type": "stream",
     "text": [
      "0\n",
      "1\n",
      "2\n",
      "3\n",
      "4\n",
      "5 is not less than 5\n"
     ]
    }
   ],
   "source": [
    "i = 0\n",
    "while i < 5:\n",
    "    print(i)\n",
    "    if i == 5:\n",
    "        break\n",
    "    i += 1\n",
    "print(\"5 is not less than 5\")"
   ]
  },
  {
   "cell_type": "code",
   "execution_count": 14,
   "id": "d67ffb30",
   "metadata": {},
   "outputs": [
    {
     "name": "stdout",
     "output_type": "stream",
     "text": [
      "465\n"
     ]
    }
   ],
   "source": [
    "n = 1\n",
    "sum = 0 \n",
    "while n <= 30:\n",
    "    sum = sum + n\n",
    "    n = n + 1\n",
    "print(sum)"
   ]
  },
  {
   "cell_type": "code",
   "execution_count": 51,
   "id": "96e25619",
   "metadata": {},
   "outputs": [
    {
     "name": "stdout",
     "output_type": "stream",
     "text": [
      "I like pineapple\n",
      "I like blueberry\n",
      "I like rasberry\n"
     ]
    }
   ],
   "source": [
    "for i in [\"I like pineapple\",\"I like blueberry\",\"I like rasberry\", \"I like apples\"]:\n",
    "    if \"apples\" in i:\n",
    "        break\n",
    "    print(i)"
   ]
  },
  {
   "cell_type": "code",
   "execution_count": 123,
   "id": "f1843c56",
   "metadata": {},
   "outputs": [
    {
     "name": "stdout",
     "output_type": "stream",
     "text": [
      "B\n"
     ]
    }
   ],
   "source": [
    "x = 86\n",
    "if x >= 90:\n",
    "    print(\"A\")\n",
    "\n",
    "elif x >= 80:\n",
    "    print(\"B\")\n",
    "\n",
    "elif x >= 70:\n",
    "    print(\"C\")\n",
    "    \n",
    "elif x >= 60:\n",
    "    print(\"D\")\n",
    "\n",
    "elif x < 60:\n",
    "    print(\"F\")"
   ]
  },
  {
   "cell_type": "code",
   "execution_count": 30,
   "id": "7e5ec8cf",
   "metadata": {},
   "outputs": [
    {
     "name": "stdout",
     "output_type": "stream",
     "text": [
      "list of names of students:\n",
      "\n",
      "Andy\n",
      "Amy\n",
      "James\n",
      "Jules\n",
      "Arthur\n"
     ]
    }
   ],
   "source": [
    "student_grades = {'Andy': 88, 'Amy': 66, 'James': 90, 'Jules':55, 'Arthur': 77}\n",
    "print('list of names of students:\\n')\n",
    "for names in student_grades:\n",
    "    print(names)"
   ]
  },
  {
   "cell_type": "code",
   "execution_count": 31,
   "id": "2e0e9671",
   "metadata": {},
   "outputs": [
    {
     "name": "stdout",
     "output_type": "stream",
     "text": [
      "Andy 88\n",
      "Amy 66\n",
      "James 90\n",
      "Jules 55\n",
      "Arthur 77\n"
     ]
    }
   ],
   "source": [
    "student_grade = {'Andy': 88, 'Amy': 66, 'James': 90, 'Jules':55, 'Arthur': 77}\n",
    "for key in student_grades:\n",
    "    print(key, student_grade[key])"
   ]
  },
  {
   "cell_type": "code",
   "execution_count": 32,
   "id": "9dc6fc37",
   "metadata": {},
   "outputs": [],
   "source": [
    "import numpy as np\n",
    "grades = np.array ([88, 66, 90, 55, 77])"
   ]
  },
  {
   "cell_type": "code",
   "execution_count": 33,
   "id": "c163c007",
   "metadata": {},
   "outputs": [
    {
     "data": {
      "text/plain": [
       "55"
      ]
     },
     "execution_count": 33,
     "metadata": {},
     "output_type": "execute_result"
    }
   ],
   "source": [
    "grades.min()"
   ]
  },
  {
   "cell_type": "code",
   "execution_count": 34,
   "id": "3e08344e",
   "metadata": {},
   "outputs": [
    {
     "data": {
      "text/plain": [
       "90"
      ]
     },
     "execution_count": 34,
     "metadata": {},
     "output_type": "execute_result"
    }
   ],
   "source": [
    "grades.max()"
   ]
  },
  {
   "cell_type": "code",
   "execution_count": 35,
   "id": "03e889d0",
   "metadata": {},
   "outputs": [
    {
     "data": {
      "text/plain": [
       "75.2"
      ]
     },
     "execution_count": 35,
     "metadata": {},
     "output_type": "execute_result"
    }
   ],
   "source": [
    "grades.mean()"
   ]
  },
  {
   "cell_type": "code",
   "execution_count": 36,
   "id": "5ae58f9e",
   "metadata": {},
   "outputs": [
    {
     "name": "stdout",
     "output_type": "stream",
     "text": [
      "75.2\n"
     ]
    }
   ],
   "source": [
    "res = 0\n",
    "for val in student_grade.values():\n",
    "    res += val\n",
    "res = res / len(student_grade)\n",
    "print(str(res))"
   ]
  },
  {
   "cell_type": "code",
   "execution_count": 44,
   "id": "30cb88d5",
   "metadata": {},
   "outputs": [
    {
     "name": "stdout",
     "output_type": "stream",
     "text": [
      "Arthur\n"
     ]
    }
   ],
   "source": [
    "student_grade = {'Andy': 88, 'Amy': 66, 'James': 90, 'Jules':55, 'Arthur': 77}\n",
    "for keys in student_grade:\n",
    "    if keys == \"J\":\n",
    "        break \n",
    "print(keys)  "
   ]
  },
  {
   "cell_type": "code",
   "execution_count": 45,
   "id": "6c5f3a71",
   "metadata": {},
   "outputs": [
    {
     "name": "stdout",
     "output_type": "stream",
     "text": [
      "Andy\n",
      "Amy\n"
     ]
    }
   ],
   "source": [
    "for i in {'Andy': 88, 'Amy': 66, 'James': 90, 'Jules':55, 'Arthur': 77}:\n",
    "    if \"J\" in i:\n",
    "        break\n",
    "    print(i)"
   ]
  },
  {
   "cell_type": "code",
   "execution_count": 46,
   "id": "36ee2dc9",
   "metadata": {},
   "outputs": [
    {
     "name": "stdout",
     "output_type": "stream",
     "text": [
      "Andy\n",
      "Amy\n",
      "Arthur\n"
     ]
    }
   ],
   "source": [
    "for i in {'Andy': 88, 'Amy': 66, 'James': 90, 'Jules':55, 'Arthur': 77}:\n",
    "    if \"J\" in i:\n",
    "        continue\n",
    "    print(i)"
   ]
  }
 ],
 "metadata": {
  "kernelspec": {
   "display_name": "Python 3 (ipykernel)",
   "language": "python",
   "name": "python3"
  },
  "language_info": {
   "codemirror_mode": {
    "name": "ipython",
    "version": 3
   },
   "file_extension": ".py",
   "mimetype": "text/x-python",
   "name": "python",
   "nbconvert_exporter": "python",
   "pygments_lexer": "ipython3",
   "version": "3.9.12"
  }
 },
 "nbformat": 4,
 "nbformat_minor": 5
}
