{
 "cells": [
  {
   "cell_type": "code",
   "execution_count": 3,
   "id": "24d95b49",
   "metadata": {},
   "outputs": [
    {
     "name": "stdout",
     "output_type": "stream",
     "text": [
      "<class 'dict'>\n",
      "{'Andy': 88, 'Amy': 66, 'James': 90, 'Jules': 55, 'Arthur': 77}\n"
     ]
    }
   ],
   "source": [
    "student_marks = {'Andy':88, 'Amy':66, 'James': 90, 'Jules': 55, 'Arthur': 77}\n",
    "print(type(student_marks))\n",
    "print(student_marks)"
   ]
  },
  {
   "cell_type": "code",
   "execution_count": 4,
   "id": "e9d4b797",
   "metadata": {},
   "outputs": [
    {
     "name": "stdout",
     "output_type": "stream",
     "text": [
      "Andy 88\n",
      "Amy 66\n",
      "James 90\n",
      "Jules 55\n",
      "Arthur 77\n"
     ]
    }
   ],
   "source": [
    "for marks, student in student_marks.items():\n",
    "    print(f'{marks} {student}')"
   ]
  },
  {
   "cell_type": "code",
   "execution_count": 12,
   "id": "111ce85d",
   "metadata": {},
   "outputs": [
    {
     "name": "stdout",
     "output_type": "stream",
     "text": [
      "88\n"
     ]
    }
   ],
   "source": [
    "# program to display student's marks from record\n",
    "student_name = \"Andy\"\n",
    "marks = {'Andy': 88, 'Amy': 66, 'James': 90, 'Jules': 55, 'Arthur': 77}\n",
    "for student in marks:\n",
    "    if student == student_name:\n",
    "        print(marks[student])\n",
    "        break\n",
    "else:\n",
    "    print(\"cannot dind this student's name\")"
   ]
  },
  {
   "cell_type": "code",
   "execution_count": 24,
   "id": "3b805127",
   "metadata": {},
   "outputs": [
    {
     "data": {
      "text/plain": [
       "75.2"
      ]
     },
     "execution_count": 24,
     "metadata": {},
     "output_type": "execute_result"
    }
   ],
   "source": [
    "def average(*args):\n",
    "    return sum(args) / len(args)\n",
    "average(88, 66, 90, 55, 77)"
   ]
  },
  {
   "cell_type": "code",
   "execution_count": 53,
   "id": "65c643be",
   "metadata": {},
   "outputs": [
    {
     "data": {
      "text/plain": [
       "1296"
      ]
     },
     "execution_count": 53,
     "metadata": {},
     "output_type": "execute_result"
    }
   ],
   "source": [
    "def square(number):\n",
    "    \"\"\"Calculate the square of number.\"\"\"\n",
    "    n = 1\n",
    "    sum = 0\n",
    "    while n <= 8: \n",
    "        return number ** 2\n",
    "    else: \n",
    "        print(\"greater than\")\n",
    "    \n",
    "square(36)"
   ]
  },
  {
   "cell_type": "code",
   "execution_count": 43,
   "id": "a4aeff69",
   "metadata": {},
   "outputs": [
    {
     "name": "stdout",
     "output_type": "stream",
     "text": [
      "36\n"
     ]
    }
   ],
   "source": [
    "def sumfunction(num):\n",
    "    n = 1\n",
    "    sum = 0\n",
    "    while n <=num:\n",
    "        sum = sum + n\n",
    "        n = n + 1\n",
    "    print(sum)\n",
    "sumfunction(8)"
   ]
  },
  {
   "cell_type": "code",
   "execution_count": 98,
   "id": "4eb2fcdb",
   "metadata": {},
   "outputs": [
    {
     "name": "stdout",
     "output_type": "stream",
     "text": [
      "enter a number:1\n",
      "enter a number:2\n",
      "enter a number:3\n",
      "enter a number:4\n",
      "enter a number:5\n",
      "enter a number:6\n",
      "enter a number:7\n",
      "enter a number:8\n",
      "the total is: 36\n"
     ]
    }
   ],
   "source": [
    "total = 0\n",
    "for i in range(8):\n",
    "    n = int (input(\"enter a number:\"))\n",
    "    total += n\n",
    "print(\"the total is:\",total)"
   ]
  },
  {
   "cell_type": "code",
   "execution_count": 115,
   "id": "83f08c0b",
   "metadata": {},
   "outputs": [
    {
     "name": "stdout",
     "output_type": "stream",
     "text": [
      "4950\n"
     ]
    }
   ],
   "source": [
    "def range_sum(num):\n",
    "    sum = 0\n",
    "    for n in range(num):\n",
    "        sum = sum + n\n",
    "    print(sum)\n",
    "    \n",
    "range_sum(100)"
   ]
  },
  {
   "cell_type": "code",
   "execution_count": 107,
   "id": "519e12bd",
   "metadata": {},
   "outputs": [
    {
     "data": {
      "text/plain": [
       "array([ 0,  1,  2,  3,  4,  5,  6,  7,  8,  9, 10, 11, 12, 13, 14, 15, 16,\n",
       "       17, 18, 19, 20, 21, 22, 23, 24, 25, 26, 27, 28, 29, 30, 31, 32, 33,\n",
       "       34, 35, 36, 37, 38, 39, 40, 41, 42, 43, 44, 45, 46, 47, 48, 49, 50,\n",
       "       51, 52, 53, 54, 55, 56, 57, 58, 59, 60, 61, 62, 63, 64, 65, 66, 67,\n",
       "       68, 69, 70, 71, 72, 73, 74, 75, 76, 77, 78, 79, 80, 81, 82, 83, 84,\n",
       "       85, 86, 87, 88, 89, 90, 91, 92, 93, 94, 95, 96, 97, 98, 99])"
      ]
     },
     "execution_count": 107,
     "metadata": {},
     "output_type": "execute_result"
    }
   ],
   "source": [
    "import numpy as np\n",
    "np.arange(100)"
   ]
  },
  {
   "cell_type": "code",
   "execution_count": 111,
   "id": "577adacc",
   "metadata": {},
   "outputs": [],
   "source": [
    "numbers = np.array([ 0,  1,  2,  3,  4,  5,  6,  7,  8,  9, 10, 11, 12, 13, 14, 15, 16,\n",
    "       17, 18, 19, 20, 21, 22, 23, 24, 25, 26, 27, 28, 29, 30, 31, 32, 33,\n",
    "       34, 35, 36, 37, 38, 39, 40, 41, 42, 43, 44, 45, 46, 47, 48, 49, 50,\n",
    "       51, 52, 53, 54, 55, 56, 57, 58, 59, 60, 61, 62, 63, 64, 65, 66, 67,\n",
    "       68, 69, 70, 71, 72, 73, 74, 75, 76, 77, 78, 79, 80, 81, 82, 83, 84,\n",
    "       85, 86, 87, 88, 89, 90, 91, 92, 93, 94, 95, 96, 97, 98, 99])"
   ]
  },
  {
   "cell_type": "code",
   "execution_count": 113,
   "id": "3834adf8",
   "metadata": {},
   "outputs": [
    {
     "data": {
      "text/plain": [
       "49.5"
      ]
     },
     "execution_count": 113,
     "metadata": {},
     "output_type": "execute_result"
    }
   ],
   "source": [
    "numbers.mean()"
   ]
  },
  {
   "cell_type": "code",
   "execution_count": 114,
   "id": "4e856f52",
   "metadata": {},
   "outputs": [
    {
     "data": {
      "text/plain": [
       "28.86607004772212"
      ]
     },
     "execution_count": 114,
     "metadata": {},
     "output_type": "execute_result"
    }
   ],
   "source": [
    "numbers.std()"
   ]
  },
  {
   "cell_type": "code",
   "execution_count": 91,
   "id": "d1ba748b",
   "metadata": {},
   "outputs": [],
   "source": [
    "def minimum(value1, value2, value3, value4):\n",
    "    \"\"\"Return the minumum of the four values\"\"\"\n",
    "    min_value = value1\n",
    "    if value2 < min_value:\n",
    "        min_value = value2\n",
    "    if value3 < min_value:\n",
    "        min_value = value3\n",
    "    if value4 < min_value:\n",
    "        min_value = value4\n",
    "    return min_value"
   ]
  },
  {
   "cell_type": "code",
   "execution_count": 93,
   "id": "a3ff87a0",
   "metadata": {},
   "outputs": [
    {
     "data": {
      "text/plain": [
       "3"
      ]
     },
     "execution_count": 93,
     "metadata": {},
     "output_type": "execute_result"
    }
   ],
   "source": [
    "minimum(18, 3, 24, 26)"
   ]
  },
  {
   "cell_type": "code",
   "execution_count": 95,
   "id": "367fcf56",
   "metadata": {},
   "outputs": [
    {
     "data": {
      "text/plain": [
       "'Hi Emanuel. Your favorite candy is Peanut m&ms. You go to Texas A&M. '"
      ]
     },
     "execution_count": 95,
     "metadata": {},
     "output_type": "execute_result"
    }
   ],
   "source": [
    "name = \"Emanuel\"\n",
    "candy = \"Peanut m&ms\"\n",
    "school = \"Texas A&M\"\n",
    "message = (\n",
    "    f\"Hi {name}. \"\n",
    "    f\"Your favorite candy is {candy}. \"\n",
    "    f\"You go to {school}. \"\n",
    ")\n",
    "message"
   ]
  }
 ],
 "metadata": {
  "kernelspec": {
   "display_name": "Python 3 (ipykernel)",
   "language": "python",
   "name": "python3"
  },
  "language_info": {
   "codemirror_mode": {
    "name": "ipython",
    "version": 3
   },
   "file_extension": ".py",
   "mimetype": "text/x-python",
   "name": "python",
   "nbconvert_exporter": "python",
   "pygments_lexer": "ipython3",
   "version": "3.9.12"
  }
 },
 "nbformat": 4,
 "nbformat_minor": 5
}
