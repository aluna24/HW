{
 "cells": [
  {
   "cell_type": "code",
   "execution_count": 1,
   "id": "f603c7f4",
   "metadata": {},
   "outputs": [
    {
     "data": {
      "text/html": [
       "<table>\n",
       "<tbody>\n",
       "\t<tr><td>7 </td><td>9 </td><td>12</td></tr>\n",
       "\t<tr><td>2 </td><td>4 </td><td>13</td></tr>\n",
       "</tbody>\n",
       "</table>\n"
      ],
      "text/latex": [
       "\\begin{tabular}{lll}\n",
       "\t 7  & 9  & 12\\\\\n",
       "\t 2  & 4  & 13\\\\\n",
       "\\end{tabular}\n"
      ],
      "text/markdown": [
       "\n",
       "| 7  | 9  | 12 |\n",
       "| 2  | 4  | 13 |\n",
       "\n"
      ],
      "text/plain": [
       "     [,1] [,2] [,3]\n",
       "[1,] 7    9    12  \n",
       "[2,] 2    4    13  "
      ]
     },
     "metadata": {},
     "output_type": "display_data"
    },
    {
     "data": {
      "text/html": [
       "<table>\n",
       "<tbody>\n",
       "\t<tr><td>1 </td><td>7 </td><td>12</td><td>19</td></tr>\n",
       "\t<tr><td>2 </td><td>8 </td><td>13</td><td>20</td></tr>\n",
       "\t<tr><td>3 </td><td>9 </td><td>14</td><td>21</td></tr>\n",
       "</tbody>\n",
       "</table>\n"
      ],
      "text/latex": [
       "\\begin{tabular}{llll}\n",
       "\t 1  & 7  & 12 & 19\\\\\n",
       "\t 2  & 8  & 13 & 20\\\\\n",
       "\t 3  & 9  & 14 & 21\\\\\n",
       "\\end{tabular}\n"
      ],
      "text/markdown": [
       "\n",
       "| 1  | 7  | 12 | 19 |\n",
       "| 2  | 8  | 13 | 20 |\n",
       "| 3  | 9  | 14 | 21 |\n",
       "\n"
      ],
      "text/plain": [
       "     [,1] [,2] [,3] [,4]\n",
       "[1,] 1    7    12   19  \n",
       "[2,] 2    8    13   20  \n",
       "[3,] 3    9    14   21  "
      ]
     },
     "metadata": {},
     "output_type": "display_data"
    },
    {
     "data": {
      "text/html": [
       "<table>\n",
       "<tbody>\n",
       "\t<tr><td>61 </td><td>229</td><td>369</td><td>565</td></tr>\n",
       "\t<tr><td>49 </td><td>163</td><td>258</td><td>391</td></tr>\n",
       "</tbody>\n",
       "</table>\n"
      ],
      "text/latex": [
       "\\begin{tabular}{llll}\n",
       "\t 61  & 229 & 369 & 565\\\\\n",
       "\t 49  & 163 & 258 & 391\\\\\n",
       "\\end{tabular}\n"
      ],
      "text/markdown": [
       "\n",
       "| 61  | 229 | 369 | 565 |\n",
       "| 49  | 163 | 258 | 391 |\n",
       "\n"
      ],
      "text/plain": [
       "     [,1] [,2] [,3] [,4]\n",
       "[1,] 61   229  369  565 \n",
       "[2,] 49   163  258  391 "
      ]
     },
     "metadata": {},
     "output_type": "display_data"
    }
   ],
   "source": [
    "matrix1 <- matrix(c(7,2,9,4,12,13), nrow = 2, ncol = 3)\n",
    "matrix1\n",
    "\n",
    "matrix2<- matrix(c(1,2,3,7,8,9,12,13,14,19,20,21), nrow = 3, ncol = 4)\n",
    "matrix2\n",
    "\n",
    "matrix1 %*% matrix2"
   ]
  },
  {
   "cell_type": "code",
   "execution_count": 2,
   "id": "8faf453f",
   "metadata": {},
   "outputs": [
    {
     "data": {
      "text/html": [
       "<table>\n",
       "<thead><tr><th scope=col>Id</th><th scope=col>Name</th><th scope=col>Salary</th></tr></thead>\n",
       "<tbody>\n",
       "\t<tr><td>1       </td><td>Peter   </td><td>623.30  </td></tr>\n",
       "\t<tr><td>2       </td><td>Amy     </td><td>515.20  </td></tr>\n",
       "\t<tr><td>3       </td><td>Ryan    </td><td>611.00  </td></tr>\n",
       "\t<tr><td>4       </td><td>Gary    </td><td>729.00  </td></tr>\n",
       "\t<tr><td>5       </td><td>Michelle</td><td>843.25  </td></tr>\n",
       "</tbody>\n",
       "</table>\n"
      ],
      "text/latex": [
       "\\begin{tabular}{r|lll}\n",
       " Id & Name & Salary\\\\\n",
       "\\hline\n",
       "\t 1        & Peter    & 623.30  \\\\\n",
       "\t 2        & Amy      & 515.20  \\\\\n",
       "\t 3        & Ryan     & 611.00  \\\\\n",
       "\t 4        & Gary     & 729.00  \\\\\n",
       "\t 5        & Michelle & 843.25  \\\\\n",
       "\\end{tabular}\n"
      ],
      "text/markdown": [
       "\n",
       "| Id | Name | Salary |\n",
       "|---|---|---|\n",
       "| 1        | Peter    | 623.30   |\n",
       "| 2        | Amy      | 515.20   |\n",
       "| 3        | Ryan     | 611.00   |\n",
       "| 4        | Gary     | 729.00   |\n",
       "| 5        | Michelle | 843.25   |\n",
       "\n"
      ],
      "text/plain": [
       "  Id Name     Salary\n",
       "1 1  Peter    623.30\n",
       "2 2  Amy      515.20\n",
       "3 3  Ryan     611.00\n",
       "4 4  Gary     729.00\n",
       "5 5  Michelle 843.25"
      ]
     },
     "metadata": {},
     "output_type": "display_data"
    }
   ],
   "source": [
    "# create a data frame \n",
    "Data_Frame <- data.frame (\n",
    "    Id = c(1, 2, 3, 4, 5),\n",
    "    Name = c(\"Peter\", \"Amy\", \"Ryan\", \"Gary\", \"Michelle\"),\n",
    "    Salary = c(623.30, 515.20, 611.00, 729.00, 843.25)\n",
    ")\n",
    "Data_Frame"
   ]
  },
  {
   "cell_type": "code",
   "execution_count": 3,
   "id": "bfad284a",
   "metadata": {},
   "outputs": [
    {
     "data": {
      "text/html": [
       "<table>\n",
       "<thead><tr><th scope=col>Id</th><th scope=col>Name</th><th scope=col>Salary</th><th scope=col>Department</th></tr></thead>\n",
       "<tbody>\n",
       "\t<tr><td>1         </td><td>Peter     </td><td>623.30    </td><td>Finance   </td></tr>\n",
       "\t<tr><td>2         </td><td>Amy       </td><td>515.20    </td><td>Sales     </td></tr>\n",
       "\t<tr><td>3         </td><td>Ryan      </td><td>611.00    </td><td>Marketing </td></tr>\n",
       "\t<tr><td>4         </td><td>Gary      </td><td>729.00    </td><td>IT        </td></tr>\n",
       "\t<tr><td>5         </td><td>Michelle  </td><td>843.25    </td><td>Accounting</td></tr>\n",
       "</tbody>\n",
       "</table>\n"
      ],
      "text/latex": [
       "\\begin{tabular}{r|llll}\n",
       " Id & Name & Salary & Department\\\\\n",
       "\\hline\n",
       "\t 1          & Peter      & 623.30     & Finance   \\\\\n",
       "\t 2          & Amy        & 515.20     & Sales     \\\\\n",
       "\t 3          & Ryan       & 611.00     & Marketing \\\\\n",
       "\t 4          & Gary       & 729.00     & IT        \\\\\n",
       "\t 5          & Michelle   & 843.25     & Accounting\\\\\n",
       "\\end{tabular}\n"
      ],
      "text/markdown": [
       "\n",
       "| Id | Name | Salary | Department |\n",
       "|---|---|---|---|\n",
       "| 1          | Peter      | 623.30     | Finance    |\n",
       "| 2          | Amy        | 515.20     | Sales      |\n",
       "| 3          | Ryan       | 611.00     | Marketing  |\n",
       "| 4          | Gary       | 729.00     | IT         |\n",
       "| 5          | Michelle   | 843.25     | Accounting |\n",
       "\n"
      ],
      "text/plain": [
       "  Id Name     Salary Department\n",
       "1 1  Peter    623.30 Finance   \n",
       "2 2  Amy      515.20 Sales     \n",
       "3 3  Ryan     611.00 Marketing \n",
       "4 4  Gary     729.00 IT        \n",
       "5 5  Michelle 843.25 Accounting"
      ]
     },
     "metadata": {},
     "output_type": "display_data"
    }
   ],
   "source": [
    "Data_Frame <- data.frame (\n",
    "    Id = c(1, 2, 3, 4, 5),\n",
    "    Name = c(\"Peter\", \"Amy\", \"Ryan\", \"Gary\", \"Michelle\"),\n",
    "    Salary = c(623.30, 515.20, 611.00, 729.00, 843.25)\n",
    ")\n",
    "# Add a new column\n",
    "New_col_DF <- cbind(Data_Frame, Department = c(\"Finance\", \"Sales\", \"Marketing\", \"IT\", \"Accounting\"))\n",
    "\n",
    "New_col_DF"
   ]
  },
  {
   "cell_type": "code",
   "execution_count": 4,
   "id": "a1ff83a0",
   "metadata": {},
   "outputs": [
    {
     "data": {
      "text/html": [
       "<table>\n",
       "<thead><tr><th></th><th scope=col>Name</th><th scope=col>Salary</th></tr></thead>\n",
       "<tbody>\n",
       "\t<tr><th scope=row>1</th><td>Peter   </td><td>623.30  </td></tr>\n",
       "\t<tr><th scope=row>3</th><td>Ryan    </td><td>611.00  </td></tr>\n",
       "\t<tr><th scope=row>5</th><td>Michelle</td><td>843.25  </td></tr>\n",
       "</tbody>\n",
       "</table>\n"
      ],
      "text/latex": [
       "\\begin{tabular}{r|ll}\n",
       "  & Name & Salary\\\\\n",
       "\\hline\n",
       "\t1 & Peter    & 623.30  \\\\\n",
       "\t3 & Ryan     & 611.00  \\\\\n",
       "\t5 & Michelle & 843.25  \\\\\n",
       "\\end{tabular}\n"
      ],
      "text/markdown": [
       "\n",
       "| <!--/--> | Name | Salary |\n",
       "|---|---|---|\n",
       "| 1 | Peter    | 623.30   |\n",
       "| 3 | Ryan     | 611.00   |\n",
       "| 5 | Michelle | 843.25   |\n",
       "\n"
      ],
      "text/plain": [
       "  Name     Salary\n",
       "1 Peter    623.30\n",
       "3 Ryan     611.00\n",
       "5 Michelle 843.25"
      ]
     },
     "metadata": {},
     "output_type": "display_data"
    }
   ],
   "source": [
    "Data_Frame[c(1,3,5), c(2,3)]"
   ]
  },
  {
   "cell_type": "code",
   "execution_count": 5,
   "id": "55ed6d12",
   "metadata": {},
   "outputs": [
    {
     "data": {
      "image/png": "[encoded data removed]",
      "text/plain": [
       "plot without title"
      ]
     },
     "metadata": {},
     "output_type": "display_data"
    }
   ],
   "source": [
    "x <- c(1, 2, 3)\n",
    "y <- c(623.30, 729.00, 843.25)\n",
    "barplot(y, names.arg = c(\"Peter\", \"Gary\", \"Michelle\"), col = \"pink\")"
   ]
  },
  {
   "cell_type": "code",
   "execution_count": 6,
   "id": "e0eb5ffc",
   "metadata": {},
   "outputs": [
    {
     "data": {
      "text/plain": [
       "       Id          Name       Salary     \n",
       " Min.   :1   Amy     :1   Min.   :515.2  \n",
       " 1st Qu.:2   Gary    :1   1st Qu.:611.0  \n",
       " Median :3   Michelle:1   Median :623.3  \n",
       " Mean   :3   Peter   :1   Mean   :664.4  \n",
       " 3rd Qu.:4   Ryan    :1   3rd Qu.:729.0  \n",
       " Max.   :5                Max.   :843.2  "
      ]
     },
     "metadata": {},
     "output_type": "display_data"
    }
   ],
   "source": [
    "summary(Data_Frame)"
   ]
  },
  {
   "cell_type": "code",
   "execution_count": 7,
   "id": "402e5154",
   "metadata": {},
   "outputs": [
    {
     "data": {
      "image/png": "[encoded data removed]",
      "text/plain": [
       "Plot with title \"Salary pie chart\""
      ]
     },
     "metadata": {},
     "output_type": "display_data"
    }
   ],
   "source": [
    "x <- c(515.20, 623.30, 843.25)\n",
    "mylabel <- c(\"Lowest salary\", \"Median salary\", \"Highest salary\")\n",
    "colors <- c(\"lightblue\", \"lavender\", \"pink\")\n",
    "pie(x, label = mylabel, main = \"Salary pie chart\", col = colors)\n",
    "legend(\"topright\", mylabel, fill = colors)"
   ]
  }
 ],
 "metadata": {
  "kernelspec": {
   "display_name": "R",
   "language": "R",
   "name": "ir"
  },
  "language_info": {
   "codemirror_mode": "r",
   "file_extension": ".r",
   "mimetype": "text/x-r-source",
   "name": "R",
   "pygments_lexer": "r",
   "version": "3.6.1"
  }
 },
 "nbformat": 4,
 "nbformat_minor": 5
}
